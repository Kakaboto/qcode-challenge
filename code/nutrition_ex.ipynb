{
 "cells": [
  {
   "cell_type": "code",
   "execution_count": 1,
   "metadata": {},
   "outputs": [
    {
     "name": "stdout",
     "output_type": "stream",
     "text": [
      "23 feasible solutions of 42.\n",
      "Diet: {'avocado': 1.0, 'banana': 6.0, 'bread': 4.1, 'lentils': 0.3, 'rice': 0.0, 'tofu': 0.0}\n",
      "Total taste of 86.56 at cost 9.46\n",
      "Calories (nominal: 2000): 2000\n",
      "Protein (nominal: 50): 50\n",
      "Fat (nominal: 30): 42\n",
      "Carbs (nominal: 130): 372\n",
      "Fiber (nominal: 30): 46\n"
     ]
    }
   ],
   "source": [
    "import dimod\n",
    "import dwave.inspector\n",
    "import dwave.system\n",
    "\n",
    "foods = {\n",
    "  'rice': {'Calories': 100, 'Protein': 3, 'Fat': 1, 'Carbs': 22, 'Fiber': 2,\n",
    "           'Taste': 7, 'Cost': 2.5, 'Units': 'continuous'},\n",
    "  'tofu': {'Calories': 140, 'Protein': 17, 'Fat': 9, 'Carbs': 3, 'Fiber': 2,\n",
    "           'Taste': 2, 'Cost': 4.0, 'Units': 'continuous'},\n",
    "  'banana': {'Calories': 90, 'Protein': 1, 'Fat': 0, 'Carbs': 23, 'Fiber': 3,\n",
    "             'Taste': 10, 'Cost': 1.0, 'Units': 'discrete'},\n",
    "  'lentils': {'Calories': 150, 'Protein': 9, 'Fat': 0, 'Carbs': 25, 'Fiber': 4,\n",
    "              'Taste': 3, 'Cost': 1.3, 'Units': 'continuous'},\n",
    "  'bread': {'Calories': 270, 'Protein': 9, 'Fat': 3, 'Carbs': 50, 'Fiber': 3,\n",
    "            'Taste': 5, 'Cost': 0.25, 'Units': 'continuous'},\n",
    "  'avocado': {'Calories': 300, 'Protein': 4, 'Fat': 30, 'Carbs': 20, 'Fiber': 14,\n",
    "              'Taste': 5, 'Cost': 2.0, 'Units': 'discrete'}}\n",
    "\n",
    "min_nutrients = {\"Protein\": 50, \"Fat\": 30, \"Carbs\": 130, \"Fiber\": 30}\n",
    "max_calories = 2000\n",
    "\n",
    "quantities = [dimod.Real(f\"{food}\") if foods[food][\"Units\"] == \"continuous\"\n",
    "                                    else dimod.Integer(f\"{food}\")\n",
    "                                    for food in foods.keys()]\n",
    "\n",
    "for ind, food in enumerate(foods.keys()):\n",
    "  ub = max_calories / foods[food][\"Calories\"]\n",
    "  quantities[ind].set_upper_bound(food, ub)\n",
    "\n",
    "cqm = dimod.ConstrainedQuadraticModel()\n",
    "\n",
    "def total_mix(quantity, category):\n",
    "  return sum(q * c for q, c in zip(quantity, (foods[food][category] for food in foods.keys())))\n",
    "\n",
    "cqm.set_objective(-total_mix(quantities, \"Taste\") + 6*total_mix(quantities, \"Cost\"))\n",
    "\n",
    "cqm.add_constraint(total_mix(quantities, \"Calories\") <= max_calories, label=\"Calories\")\n",
    "'Calories'\n",
    "\n",
    "for nutrient, amount in min_nutrients.items():\n",
    "  cqm.add_constraint(total_mix(quantities, nutrient) >= amount, label=nutrient)\n",
    "'Protein'\n",
    "'Fat'\n",
    "'Carbs'\n",
    "'Fiber'\n",
    "\n",
    "from dwave.system import LeapHybridCQMSampler\n",
    "sampler = LeapHybridCQMSampler()\n",
    "\n",
    "sampleset = sampler.sample_cqm(cqm)\n",
    "feasible_sampleset = sampleset.filter(lambda row: row.is_feasible)\n",
    "print(\"{} feasible solutions of {}.\".format(len(feasible_sampleset), len(sampleset)))\n",
    "\n",
    "\n",
    "def print_diet(sample):\n",
    "   diet = {food: round(quantity, 1) for food, quantity in sample.items()}\n",
    "   print(f\"Diet: {diet}\")\n",
    "   taste_total = sum(foods[food][\"Taste\"] * amount for food, amount in sample.items())\n",
    "   cost_total = sum(foods[food][\"Cost\"] * amount for food, amount in sample.items())\n",
    "   print(f\"Total taste of {round(taste_total, 2)} at cost {round(cost_total, 2)}\")\n",
    "   for constraint in cqm.iter_constraint_data(sample):\n",
    "      print(f\"{constraint.label} (nominal: {constraint.rhs_energy}): {round(constraint.lhs_energy)}\")\n",
    "\n",
    "\n",
    "best = feasible_sampleset.first.sample\n",
    "print_diet(best)\n",
    "\n"
   ]
  }
 ],
 "metadata": {
  "kernelspec": {
   "display_name": "Python 3.10.4 ('quantum')",
   "language": "python",
   "name": "python3"
  },
  "language_info": {
   "codemirror_mode": {
    "name": "ipython",
    "version": 3
   },
   "file_extension": ".py",
   "mimetype": "text/x-python",
   "name": "python",
   "nbconvert_exporter": "python",
   "pygments_lexer": "ipython3",
   "version": "3.10.4"
  },
  "orig_nbformat": 4,
  "vscode": {
   "interpreter": {
    "hash": "702da183d316b1c1f826899cceab2b45fe204e758923b320c564a633b2d29512"
   }
  }
 },
 "nbformat": 4,
 "nbformat_minor": 2
}
