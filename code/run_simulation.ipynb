{
 "cells": [
  {
   "cell_type": "code",
   "execution_count": null,
   "metadata": {},
   "outputs": [],
   "source": [
    "# Intro:\n",
    "# Welcome. This is an exercise in using dwave quantum annealing. Applied to the problem of structurally imbalanced social network.\n",
    "# You can either run a general test with a auto-generated network and test cpu vs qpu performance.\n",
    "# Or you can try it with countries and UN votes as basis for the network. Friends and enemies are determined based on if they voted the same or not on a given motion.\n",
    "# for computing time purposes, a subset of all countries are included:\n",
    "# ['DNK', 'FRA', 'LUX', 'SWE', 'FIN', 'NLD', 'HUN', 'IRN', 'BEL', 'GBR', 'DEU', 'GRC', 'MLT', 'ITA', 'POL']\n",
    "# to adjust this list, edit the load_data function with other three digit country labels (tip: You need to restart the kernel to have the changes reflected here)\n",
    "\n",
    "# Overview of solution:\n",
    "# structurally imbalanced social network can be viewed as a graph with nodes being entities and edges being the relation between them.\n",
    "# We set the relations to only be friends or enemies. Then try to split the nodes into 2 groups where only friends are in the same group and only enemies are in different groups.\n",
    "# This is a variation of the max cut problem. Essentially instead of maximizing amout of total vertices cut we maximize the cut of enemy connections.\n",
    "# To solve structurally imbalanced social network, we start with a graph representation of the network.\n",
    "# Generally we then need to convert the network to a QUBO or ising model representation which can be done for example with pyqubo.\n",
    "# For the chosen solver we can just use the graph directly. To solve it we can use DwaveSampler.\n",
    "# qiskits QAOA algorithm can also be used. Since it requires more effort to use due to having to define the operator which acts on the qubits \"by hand\" and doing the qubo/ising model conversion.\n",
    "# Dwave is also focused on quantum annealing while qiskit is intended for circuit algorithms.\n",
    "# So we will go with Dwave:s solver.\n",
    "# There is also a LeapHybridSampler which is applicable here. Though as this is an exercise in writing quantum algorithms it seems most fitting to use the DwaveSampler rather than a hybrid.\n",
    "\n",
    "# Code summary:\n",
    "# the world_order solver is the main function. It first picks a sampler.\n",
    "# Then it loads the data where we define the graph that represents our problem. Afterward we call dwaves networkx structural_imbalance solver with our graph, solver and parameters.\n",
    "# This produces our solution which we then draw in the two figures produced.\n",
    "\n",
    "# Math summary:\n",
    "# First we indentify that our problem is a QUBO problem. This means our problem takes the form X^T * Q * X, where X is our solution vector in {0, 1} and Q our objective matrix in {-1, 1}.\n",
    "# Q can be defined as a upper diagonal matrix with the nodes being the X elements and edges being the matrix elements (diagonal being 1:s due to them representing nodes interactions with themselves).\n",
    "# This can be expanded into a system of equations that we just need to minimize. By hand in a small system we could do partial derivation and solve the resulting equation system.\n",
    "# Here we can see why quantum annealing fits to solve this problem since it's design goal is to find global minimas of a objective function (which we represent as a matrix here).\n",
    "\n",
    "\n",
    "\n",
    "\n",
    "# Run code cell 1 and 2 below to import functions and load data. Then run code cell 3 to run the simulation."
   ]
  },
  {
   "cell_type": "code",
   "execution_count": null,
   "metadata": {},
   "outputs": [],
   "source": [
    "# Read the data from the UN votes:\n",
    "import functions as func\n"
   ]
  },
  {
   "cell_type": "code",
   "execution_count": null,
   "metadata": {},
   "outputs": [],
   "source": [
    "csvData = func.get_data('../dataverse_files/UNVotes.RData')"
   ]
  },
  {
   "cell_type": "code",
   "execution_count": null,
   "metadata": {},
   "outputs": [],
   "source": [
    "# Welcome. Choose either to run a fictional = True simulation where nodes are randomly generated.\n",
    "# Or choose False and run the simulation data based on countries and UN voting results. You can pick a motion to base the data on with this setting.\n",
    "# There are 6375 different motions to choose from.\n",
    "# Choose a solver type (either cpu or qpu)\n",
    "# Choose how many runs you want the solver to do. For CPU it picks random solution samples and chooses the best of them.\n",
    "# For the QPU there is a statistical variation in the output so more runs can make the simulation more accurate.\n",
    "\n",
    "motion = 2000\n",
    "type = 'cpu'\n",
    "num_runs = 100000\n",
    "fictional = False\n",
    "func.world_order_solver(motion, type, num_runs, csvData, fictional)\n",
    "\n"
   ]
  }
 ],
 "metadata": {
  "kernelspec": {
   "display_name": "Python 3.10.4 ('quantum')",
   "language": "python",
   "name": "python3"
  },
  "language_info": {
   "codemirror_mode": {
    "name": "ipython",
    "version": 3
   },
   "file_extension": ".py",
   "mimetype": "text/x-python",
   "name": "python",
   "nbconvert_exporter": "python",
   "pygments_lexer": "ipython3",
   "version": "3.10.4"
  },
  "orig_nbformat": 4,
  "vscode": {
   "interpreter": {
    "hash": "702da183d316b1c1f826899cceab2b45fe204e758923b320c564a633b2d29512"
   }
  }
 },
 "nbformat": 4,
 "nbformat_minor": 2
}
