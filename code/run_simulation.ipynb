{
 "cells": [
  {
   "cell_type": "code",
   "execution_count": null,
   "metadata": {},
   "outputs": [],
   "source": [
    "# Welcome. This is an exercise in using dwave quantum annealing. Applied to the problem of structurally imbalanced social network.\n",
    "# You can either run a general test with a auto-generated network and test cpu vs qpu performance.\n",
    "# Or you can try it with countries and UN votes as basis for the network. Friends and enemies are determined based on if they voted the same or not on a given motion.\n",
    "# for computing time purposes, a subset of all countries are included:\n",
    "# ['DNK', 'FRA', 'LUX', 'SWE', 'FIN', 'NLD', 'HUN', 'IRN', 'BEL', 'GBR', 'DEU', 'GRC', 'MLT', 'ITA', 'POL']\n",
    "# to adjust this list, edit the load_data function with other three digit country labels (tip: You need to restart the kernel to have the changes reflected here)\n",
    "\n",
    "# Run code cell 1 and 2 below to import functions and load data. Then run code cell 3 to run the simulation."
   ]
  },
  {
   "cell_type": "code",
   "execution_count": null,
   "metadata": {},
   "outputs": [],
   "source": [
    "# Read the data from the UN votes:\n",
    "import functions as func\n"
   ]
  },
  {
   "cell_type": "code",
   "execution_count": null,
   "metadata": {},
   "outputs": [],
   "source": [
    "csvData = func.get_data('../dataverse_files/UNVotes.RData')"
   ]
  },
  {
   "cell_type": "code",
   "execution_count": null,
   "metadata": {},
   "outputs": [],
   "source": [
    "# Welcome. Choose either to run a fictional = True simulation where nodes are randomly generated.\n",
    "# Or choose False and run the simulation data based on countries and UN voting results. You can pick a motion to base the data on with this setting.\n",
    "# There are 6375 different motions to choose from.\n",
    "# Choose a solver type (either cpu or qpu)\n",
    "# Choose how many runs you want the solver to do. For CPU it picks random solution samples and chooses the best of them.\n",
    "# For the QPU there is a statistical variation in the output so more runs can make the simulation more accurate.\n",
    "\n",
    "motion = 2000\n",
    "type = 'cpu'\n",
    "num_runs = 100\n",
    "fictional = True\n",
    "func.world_order_solver(motion, type, num_runs, csvData, fictional)"
   ]
  }
 ],
 "metadata": {
  "kernelspec": {
   "display_name": "Python 3.10.4 ('quantum')",
   "language": "python",
   "name": "python3"
  },
  "language_info": {
   "codemirror_mode": {
    "name": "ipython",
    "version": 3
   },
   "file_extension": ".py",
   "mimetype": "text/x-python",
   "name": "python",
   "nbconvert_exporter": "python",
   "pygments_lexer": "ipython3",
   "version": "3.10.4"
  },
  "orig_nbformat": 4,
  "vscode": {
   "interpreter": {
    "hash": "702da183d316b1c1f826899cceab2b45fe204e758923b320c564a633b2d29512"
   }
  }
 },
 "nbformat": 4,
 "nbformat_minor": 2
}
