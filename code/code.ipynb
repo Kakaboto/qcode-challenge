{
 "cells": [
  {
   "cell_type": "code",
   "execution_count": 1,
   "metadata": {},
   "outputs": [],
   "source": [
    "import qiskit"
   ]
  }
 ],
 "metadata": {
  "kernelspec": {
   "display_name": "Python 3.8.13 ('qtest')",
   "language": "python",
   "name": "python3"
  },
  "language_info": {
   "name": "python",
   "version": "3.8.13"
  },
  "orig_nbformat": 4,
  "vscode": {
   "interpreter": {
    "hash": "69b5a651e467ce08a0a1330df86b3de6bc171e7e8c9a3a99970b9855837ba961"
   }
  }
 },
 "nbformat": 4,
 "nbformat_minor": 2
}
